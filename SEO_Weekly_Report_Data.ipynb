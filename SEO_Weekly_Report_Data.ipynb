{
  "nbformat": 4,
  "nbformat_minor": 0,
  "metadata": {
    "colab": {
      "provenance": [],
      "authorship_tag": "ABX9TyMnRJhwntv9pzDWWkVryutj",
      "include_colab_link": true
    },
    "kernelspec": {
      "name": "python3",
      "display_name": "Python 3"
    },
    "language_info": {
      "name": "python"
    }
  },
  "cells": [
    {
      "cell_type": "markdown",
      "metadata": {
        "id": "view-in-github",
        "colab_type": "text"
      },
      "source": [
        "<a href=\"https://colab.research.google.com/github/syahidmid/seo-weekly-report/blob/main/SEO_Weekly_Report_Data.ipynb\" target=\"_parent\"><img src=\"https://colab.research.google.com/assets/colab-badge.svg\" alt=\"Open In Colab\"/></a>"
      ]
    },
    {
      "cell_type": "markdown",
      "source": [
        "# Notes\n",
        "\n",
        "To Do List \n",
        "- Create new column for 1. Preparing for Media O step, let name it \"Tag\"\n",
        "\n",
        "https://docs.google.com/spreadsheets/d/1SbEAGAKkdujQdI6NBGXNKlNoxqeledQe55432RoO7cI/edit#gid=1665442719"
      ],
      "metadata": {
        "id": "tK28wRkApfY1"
      }
    },
    {
      "cell_type": "markdown",
      "source": [
        "# 1. Preparing for Media O "
      ],
      "metadata": {
        "id": "1ABSSo-Yajfy"
      }
    },
    {
      "cell_type": "code",
      "execution_count": null,
      "metadata": {
        "id": "hWnflL4xaAPA"
      },
      "outputs": [],
      "source": [
        "import os\n",
        "import shutil\n",
        "import io \n",
        "import pandas as pd\n",
        "from google.colab import files"
      ]
    },
    {
      "cell_type": "code",
      "source": [
        "uploaded = files.upload()"
      ],
      "metadata": {
        "id": "kf88SoTVasim"
      },
      "execution_count": null,
      "outputs": []
    },
    {
      "cell_type": "code",
      "source": [
        "folder_path = '/content/new report'\n",
        "if not os.path.exists(folder_path):\n",
        "    os.makedirs(folder_path)\n",
        "\n",
        "file_name = list(uploaded.keys())[0]\n",
        "shutil.move(file_name, os.path.join(folder_path, file_name))\n"
      ],
      "metadata": {
        "id": "OTKWSwKSayQz"
      },
      "execution_count": null,
      "outputs": []
    },
    {
      "cell_type": "code",
      "source": [
        "def move_file(file_name, path):\n",
        "    shutil.move(file_name, os.path.join(path, file_name))\n"
      ],
      "metadata": {
        "id": "7UXXHTnqa1C4"
      },
      "execution_count": null,
      "outputs": []
    },
    {
      "cell_type": "code",
      "source": [
        "media_o = pd.read_csv(os.path.join(folder_path, file_name)) "
      ],
      "metadata": {
        "id": "vs8Lu9g-a3vS"
      },
      "execution_count": null,
      "outputs": []
    },
    {
      "cell_type": "code",
      "source": [
        "if 'URL' not in media_o.columns or 'Keyword' not in media_o.columns:\n",
        "    print(\"Error: Columns 'URL' and/or 'Keyword' not found in the dataframe.\")\n",
        "else:\n",
        "    media_o['search_key'] = media_o['URL'] + ' | ' + media_o['Keyword']\n",
        "    media_o['Current Position'] = ''\n",
        "    media_o['Keyword found in SERPRobot'] = ''\n",
        "    media_o.to_csv(os.path.join(folder_path, 'Media O.csv'), index=False)\n",
        "    print(\"File 'Media O.csv' has been updated with new columns and saved to the 'new report' directory.\")\n"
      ],
      "metadata": {
        "id": "QLO3e27Ua51o"
      },
      "execution_count": null,
      "outputs": []
    },
    {
      "cell_type": "markdown",
      "source": [
        "# 2 Upload and clean SERP Robot Data"
      ],
      "metadata": {
        "id": "3R7NMGSycKiM"
      }
    },
    {
      "cell_type": "code",
      "source": [
        "uploaded = files.upload()"
      ],
      "metadata": {
        "id": "_gDkXozehun1"
      },
      "execution_count": null,
      "outputs": []
    },
    {
      "cell_type": "code",
      "source": [
        "# Gets a list of all uploaded file names, then iteratively moves each file into a specified ('/content/new report') using the shutil.move function.\n",
        "file_names = list(uploaded.keys())\n",
        "folder_path = '/content/new report'\n",
        "for file_name in file_names:\n",
        "    shutil.move(file_name, os.path.join(folder_path, file_name))"
      ],
      "metadata": {
        "id": "uz82drD2h9zy"
      },
      "execution_count": null,
      "outputs": []
    },
    {
      "cell_type": "code",
      "source": [
        "all_data = pd.concat([pd.read_csv(os.path.join(folder_path, name)).assign(Tag=name) for name in file_names])"
      ],
      "metadata": {
        "id": "NGWkbdT1iCCl"
      },
      "execution_count": null,
      "outputs": []
    },
    {
      "cell_type": "code",
      "source": [
        "all_data['Found SERP'] = all_data['Found SERP'].str.replace('https://', '')  # Cleaning 1\n",
        "all_data['Found SERP'] = all_data['Found SERP'].str.split('#').str[0]  # Cleaning 2\n",
        "all_data['search_key'] = all_data['Found SERP'] + ' | ' + all_data['Keyword for: (lifepal.co.id/media)']"
      ],
      "metadata": {
        "id": "uPfKOe9EiGGL"
      },
      "execution_count": null,
      "outputs": []
    },
    {
      "cell_type": "code",
      "source": [
        "all_data.to_csv(os.path.join(folder_path, 'SERP All Data.csv'), index=False)\n",
        "print(\"All file succesfully combined, cleaned, and new column 'search_key' added. The updated data is saved to the 'new report' directory as 'SERP All Data.csv'\")"
      ],
      "metadata": {
        "id": "-Hz1YIp3iIY3"
      },
      "execution_count": null,
      "outputs": []
    },
    {
      "cell_type": "markdown",
      "source": [
        "# 3 Check for Keyword Position"
      ],
      "metadata": {
        "id": "t3hDy-IEib6b"
      }
    },
    {
      "cell_type": "code",
      "source": [
        "all_data.rename(columns={'www.google.co.id current position': 'position'}, inplace=True)"
      ],
      "metadata": {
        "id": "eDyuWxHci233"
      },
      "execution_count": null,
      "outputs": []
    },
    {
      "cell_type": "code",
      "source": [
        "if 'Current Position' in media_o.columns:\n",
        "    media_o.drop('Current Position', axis=1, inplace=True)\n"
      ],
      "metadata": {
        "id": "guIfYAAni4Ul"
      },
      "execution_count": null,
      "outputs": []
    },
    {
      "cell_type": "code",
      "source": [
        "media_o = media_o.merge(all_data[['search_key', 'position']], on='search_key', how='left').copy()\n"
      ],
      "metadata": {
        "id": "YPcWv_uEi7Ja"
      },
      "execution_count": null,
      "outputs": []
    },
    {
      "cell_type": "code",
      "source": [
        "media_o.rename(columns={'position': 'Current Position'}, inplace=True)\n"
      ],
      "metadata": {
        "id": "x6M38jXxi_jL"
      },
      "execution_count": null,
      "outputs": []
    },
    {
      "cell_type": "code",
      "source": [
        "media_o['Current Position'].fillna(100, inplace=True)\n",
        "print(\"Successfully updated Current Position in Media O\")\n"
      ],
      "metadata": {
        "colab": {
          "base_uri": "https://localhost:8080/"
        },
        "id": "NCj2Bd-EjCIE",
        "outputId": "ba35e07c-bba9-46ad-b177-d1dc5c5f54c1"
      },
      "execution_count": null,
      "outputs": [
        {
          "output_type": "stream",
          "name": "stdout",
          "text": [
            "Successfully updated Current Position in Media O\n"
          ]
        }
      ]
    },
    {
      "cell_type": "code",
      "source": [
        "media_o['Keyword found in SERPRobot'] = media_o['Keyword'].isin(all_data['Keyword for: (lifepal.co.id/media)']).map({True: 'Yes', False: 'No'})\n"
      ],
      "metadata": {
        "id": "6yIROG_5jGtC"
      },
      "execution_count": null,
      "outputs": []
    },
    {
      "cell_type": "code",
      "source": [
        "media_o.to_csv('/content/new report/Media O.csv', index=False)\n",
        "print(\"The position data has been added to the Media 0.CSV file!'\")\n"
      ],
      "metadata": {
        "colab": {
          "base_uri": "https://localhost:8080/"
        },
        "id": "LyQhtunejI4y",
        "outputId": "d5d0544a-9ccc-4516-e842-e158bcdb55c9"
      },
      "execution_count": null,
      "outputs": [
        {
          "output_type": "stream",
          "name": "stdout",
          "text": [
            "The position data has been added to the Media 0.CSV file!'\n"
          ]
        }
      ]
    },
    {
      "cell_type": "markdown",
      "source": [
        "# 4. Cleaning GA Data "
      ],
      "metadata": {
        "id": "kPC44vQBq4X-"
      }
    },
    {
      "cell_type": "code",
      "source": [
        "# Minta pengguna untuk mengunggah file\n",
        "uploaded = files.upload()"
      ],
      "metadata": {
        "colab": {
          "base_uri": "https://localhost:8080/",
          "height": 108
        },
        "id": "Twk6TM6krCOu",
        "outputId": "ec053a6b-28c9-4f34-9760-1c28ef442852"
      },
      "execution_count": null,
      "outputs": [
        {
          "output_type": "display_data",
          "data": {
            "text/plain": [
              "<IPython.core.display.HTML object>"
            ],
            "text/html": [
              "\n",
              "     <input type=\"file\" id=\"files-e4b658a2-f177-4019-a023-993948714f4b\" name=\"files[]\" multiple disabled\n",
              "        style=\"border:none\" />\n",
              "     <output id=\"result-e4b658a2-f177-4019-a023-993948714f4b\">\n",
              "      Upload widget is only available when the cell has been executed in the\n",
              "      current browser session. Please rerun this cell to enable.\n",
              "      </output>\n",
              "      <script>// Copyright 2017 Google LLC\n",
              "//\n",
              "// Licensed under the Apache License, Version 2.0 (the \"License\");\n",
              "// you may not use this file except in compliance with the License.\n",
              "// You may obtain a copy of the License at\n",
              "//\n",
              "//      http://www.apache.org/licenses/LICENSE-2.0\n",
              "//\n",
              "// Unless required by applicable law or agreed to in writing, software\n",
              "// distributed under the License is distributed on an \"AS IS\" BASIS,\n",
              "// WITHOUT WARRANTIES OR CONDITIONS OF ANY KIND, either express or implied.\n",
              "// See the License for the specific language governing permissions and\n",
              "// limitations under the License.\n",
              "\n",
              "/**\n",
              " * @fileoverview Helpers for google.colab Python module.\n",
              " */\n",
              "(function(scope) {\n",
              "function span(text, styleAttributes = {}) {\n",
              "  const element = document.createElement('span');\n",
              "  element.textContent = text;\n",
              "  for (const key of Object.keys(styleAttributes)) {\n",
              "    element.style[key] = styleAttributes[key];\n",
              "  }\n",
              "  return element;\n",
              "}\n",
              "\n",
              "// Max number of bytes which will be uploaded at a time.\n",
              "const MAX_PAYLOAD_SIZE = 100 * 1024;\n",
              "\n",
              "function _uploadFiles(inputId, outputId) {\n",
              "  const steps = uploadFilesStep(inputId, outputId);\n",
              "  const outputElement = document.getElementById(outputId);\n",
              "  // Cache steps on the outputElement to make it available for the next call\n",
              "  // to uploadFilesContinue from Python.\n",
              "  outputElement.steps = steps;\n",
              "\n",
              "  return _uploadFilesContinue(outputId);\n",
              "}\n",
              "\n",
              "// This is roughly an async generator (not supported in the browser yet),\n",
              "// where there are multiple asynchronous steps and the Python side is going\n",
              "// to poll for completion of each step.\n",
              "// This uses a Promise to block the python side on completion of each step,\n",
              "// then passes the result of the previous step as the input to the next step.\n",
              "function _uploadFilesContinue(outputId) {\n",
              "  const outputElement = document.getElementById(outputId);\n",
              "  const steps = outputElement.steps;\n",
              "\n",
              "  const next = steps.next(outputElement.lastPromiseValue);\n",
              "  return Promise.resolve(next.value.promise).then((value) => {\n",
              "    // Cache the last promise value to make it available to the next\n",
              "    // step of the generator.\n",
              "    outputElement.lastPromiseValue = value;\n",
              "    return next.value.response;\n",
              "  });\n",
              "}\n",
              "\n",
              "/**\n",
              " * Generator function which is called between each async step of the upload\n",
              " * process.\n",
              " * @param {string} inputId Element ID of the input file picker element.\n",
              " * @param {string} outputId Element ID of the output display.\n",
              " * @return {!Iterable<!Object>} Iterable of next steps.\n",
              " */\n",
              "function* uploadFilesStep(inputId, outputId) {\n",
              "  const inputElement = document.getElementById(inputId);\n",
              "  inputElement.disabled = false;\n",
              "\n",
              "  const outputElement = document.getElementById(outputId);\n",
              "  outputElement.innerHTML = '';\n",
              "\n",
              "  const pickedPromise = new Promise((resolve) => {\n",
              "    inputElement.addEventListener('change', (e) => {\n",
              "      resolve(e.target.files);\n",
              "    });\n",
              "  });\n",
              "\n",
              "  const cancel = document.createElement('button');\n",
              "  inputElement.parentElement.appendChild(cancel);\n",
              "  cancel.textContent = 'Cancel upload';\n",
              "  const cancelPromise = new Promise((resolve) => {\n",
              "    cancel.onclick = () => {\n",
              "      resolve(null);\n",
              "    };\n",
              "  });\n",
              "\n",
              "  // Wait for the user to pick the files.\n",
              "  const files = yield {\n",
              "    promise: Promise.race([pickedPromise, cancelPromise]),\n",
              "    response: {\n",
              "      action: 'starting',\n",
              "    }\n",
              "  };\n",
              "\n",
              "  cancel.remove();\n",
              "\n",
              "  // Disable the input element since further picks are not allowed.\n",
              "  inputElement.disabled = true;\n",
              "\n",
              "  if (!files) {\n",
              "    return {\n",
              "      response: {\n",
              "        action: 'complete',\n",
              "      }\n",
              "    };\n",
              "  }\n",
              "\n",
              "  for (const file of files) {\n",
              "    const li = document.createElement('li');\n",
              "    li.append(span(file.name, {fontWeight: 'bold'}));\n",
              "    li.append(span(\n",
              "        `(${file.type || 'n/a'}) - ${file.size} bytes, ` +\n",
              "        `last modified: ${\n",
              "            file.lastModifiedDate ? file.lastModifiedDate.toLocaleDateString() :\n",
              "                                    'n/a'} - `));\n",
              "    const percent = span('0% done');\n",
              "    li.appendChild(percent);\n",
              "\n",
              "    outputElement.appendChild(li);\n",
              "\n",
              "    const fileDataPromise = new Promise((resolve) => {\n",
              "      const reader = new FileReader();\n",
              "      reader.onload = (e) => {\n",
              "        resolve(e.target.result);\n",
              "      };\n",
              "      reader.readAsArrayBuffer(file);\n",
              "    });\n",
              "    // Wait for the data to be ready.\n",
              "    let fileData = yield {\n",
              "      promise: fileDataPromise,\n",
              "      response: {\n",
              "        action: 'continue',\n",
              "      }\n",
              "    };\n",
              "\n",
              "    // Use a chunked sending to avoid message size limits. See b/62115660.\n",
              "    let position = 0;\n",
              "    do {\n",
              "      const length = Math.min(fileData.byteLength - position, MAX_PAYLOAD_SIZE);\n",
              "      const chunk = new Uint8Array(fileData, position, length);\n",
              "      position += length;\n",
              "\n",
              "      const base64 = btoa(String.fromCharCode.apply(null, chunk));\n",
              "      yield {\n",
              "        response: {\n",
              "          action: 'append',\n",
              "          file: file.name,\n",
              "          data: base64,\n",
              "        },\n",
              "      };\n",
              "\n",
              "      let percentDone = fileData.byteLength === 0 ?\n",
              "          100 :\n",
              "          Math.round((position / fileData.byteLength) * 100);\n",
              "      percent.textContent = `${percentDone}% done`;\n",
              "\n",
              "    } while (position < fileData.byteLength);\n",
              "  }\n",
              "\n",
              "  // All done.\n",
              "  yield {\n",
              "    response: {\n",
              "      action: 'complete',\n",
              "    }\n",
              "  };\n",
              "}\n",
              "\n",
              "scope.google = scope.google || {};\n",
              "scope.google.colab = scope.google.colab || {};\n",
              "scope.google.colab._files = {\n",
              "  _uploadFiles,\n",
              "  _uploadFilesContinue,\n",
              "};\n",
              "})(self);\n",
              "</script> "
            ]
          },
          "metadata": {}
        },
        {
          "output_type": "stream",
          "name": "stdout",
          "text": [
            "Saving Lead Health 2.csv to Lead Health 2.csv\n",
            "Saving Lead Health 1.csv to Lead Health 1.csv\n"
          ]
        }
      ]
    },
    {
      "cell_type": "code",
      "source": [
        "# Membuat DataFrame kosong untuk menampung semua data\n",
        "all_data = pd.DataFrame()\n",
        "first_filename = None  # Inisialisasi variabel di luar loop\n"
      ],
      "metadata": {
        "id": "82nyV0rJrX4a"
      },
      "execution_count": null,
      "outputs": []
    },
    {
      "cell_type": "code",
      "source": [
        "# Iterasi setiap file yang diunggah\n",
        "for i, filename in enumerate(uploaded.keys()):\n",
        "\n",
        "    # Menyimpan file yang diupload\n",
        "    with open(filename, 'wb') as f:\n",
        "        f.write(uploaded[filename])\n"
      ],
      "metadata": {
        "id": "EZvIW7xtrZ8O"
      },
      "execution_count": null,
      "outputs": []
    },
    {
      "cell_type": "code",
      "source": [
        "    # Buat direktori baru jika belum ada\n",
        "    if not os.path.exists('new report'):\n",
        "        os.makedirs('new report')\n",
        "\n",
        "    # Pindahkan file yang diupload ke direktori baru\n",
        "    shutil.move(filename, 'new report/' + filename)\n"
      ],
      "metadata": {
        "id": "7_2fKozprfYj",
        "colab": {
          "base_uri": "https://localhost:8080/",
          "height": 36
        },
        "outputId": "4578e60c-b583-4034-b87c-948172e50a2a"
      },
      "execution_count": null,
      "outputs": [
        {
          "output_type": "execute_result",
          "data": {
            "text/plain": [
              "'new report/Lead Health 1.csv'"
            ],
            "application/vnd.google.colaboratory.intrinsic+json": {
              "type": "string"
            }
          },
          "metadata": {},
          "execution_count": 116
        }
      ]
    },
    {
      "cell_type": "code",
      "source": [
        "    # Menginisiasi variabel\n",
        "    header_row = 0\n",
        "\n",
        "    # Baca file dan cari 'Landing Page'\n",
        "    with open('new report/' + filename, 'r') as f:\n",
        "        for row_no, line in enumerate(f):\n",
        "            if 'Landing Page' in line:\n",
        "                header_row = row_no\n",
        "                break\n"
      ],
      "metadata": {
        "id": "2pIqnLSSwbhv"
      },
      "execution_count": null,
      "outputs": []
    },
    {
      "cell_type": "code",
      "source": [
        "    # Gunakan header_row sebagai parameter dalam fungsi pd.read_csv\n",
        "    data = pd.read_csv('new report/' + filename, skiprows=header_row)\n"
      ],
      "metadata": {
        "id": "CqXt-gGGwd60"
      },
      "execution_count": null,
      "outputs": []
    },
    {
      "cell_type": "code",
      "source": [
        "    # Hanya mempertahankan baris yang dimulai dengan '/media/'\n",
        "    data = data[data.iloc[:,0].str.startswith('/media/', na=False)]\n"
      ],
      "metadata": {
        "id": "uYNykmj6wf5o"
      },
      "execution_count": null,
      "outputs": []
    },
    {
      "cell_type": "code",
      "source": [
        "    # Menghapus tanda tanya \"?\" dan semua karakter setelahnya di kolom 'Landing Page'\n",
        "    data.iloc[:,0] = data.iloc[:,0].str.split('?').str[0]\n"
      ],
      "metadata": {
        "id": "4iHfIOlYwiFP"
      },
      "execution_count": null,
      "outputs": []
    },
    {
      "cell_type": "code",
      "source": [
        "    # Menambah \"lifepal.co.id\" sebelum \"/media/\"\n",
        "    data.iloc[:,0] = 'lifepal.co.id' + data.iloc[:,0]\n"
      ],
      "metadata": {
        "id": "E2cSvQOUwkSu"
      },
      "execution_count": null,
      "outputs": []
    },
    {
      "cell_type": "code",
      "source": [
        "    # Menambahkan data dari file ini ke DataFrame keseluruhan\n",
        "    all_data = pd.concat([all_data, data], ignore_index=True)\n",
        "\n",
        "    # Jika ini adalah iterasi pertama, simpan nama file\n",
        "    if i == 0:\n",
        "        first_filename = os.path.splitext(filename)[0]\n"
      ],
      "metadata": {
        "id": "THBU0ZQPwm06"
      },
      "execution_count": null,
      "outputs": []
    },
    {
      "cell_type": "code",
      "source": [
        "# Menyimpan DataFrame ke file CSV baru dengan nama file pertama ditambah '_cleaned'\n",
        "all_data.to_csv(f'new report/{first_filename}_cleaned.csv', index=False)\n",
        "print(f\"Data telah berhasil disimpan ke file 'new report/{first_filename}_cleaned.csv'\")\n"
      ],
      "metadata": {
        "id": "2sjcuSNtwo2G"
      },
      "execution_count": null,
      "outputs": []
    },
    {
      "cell_type": "markdown",
      "source": [
        "# 5. Vlookup"
      ],
      "metadata": {
        "id": "6JtwU71OyNt9"
      }
    },
    {
      "cell_type": "code",
      "source": [
        "# Input the filename to search\n",
        "filename = input(\"Enter the filename to search (e.g., SERP All Data.csv): \")\n"
      ],
      "metadata": {
        "colab": {
          "base_uri": "https://localhost:8080/"
        },
        "id": "-unTRR3kyRGB",
        "outputId": "1e653892-23ce-4ae5-d921-3209f9067213"
      },
      "execution_count": null,
      "outputs": [
        {
          "name": "stdout",
          "output_type": "stream",
          "text": [
            "Enter the filename to search (e.g., SERP All Data.csv): /content/new report/None_cleaned.csv\n"
          ]
        }
      ]
    },
    {
      "cell_type": "code",
      "source": [
        "# Read the data file\n",
        "all_data = pd.read_csv(filename)\n"
      ],
      "metadata": {
        "id": "PMM5maF2yVpk"
      },
      "execution_count": null,
      "outputs": []
    },
    {
      "cell_type": "code",
      "source": [
        "# Remove duplicates in the 'Landing Page' column\n",
        "all_data.drop_duplicates(subset='Landing Page', inplace=True)\n"
      ],
      "metadata": {
        "id": "mwMY2KoZyXsO"
      },
      "execution_count": null,
      "outputs": []
    },
    {
      "cell_type": "code",
      "source": [
        "# Print the first 5 rows of the data\n",
        "print(\"Data in file '{}':\".format(filename))\n",
        "print(all_data.head(5))\n"
      ],
      "metadata": {
        "id": "ECIDHEzJyZoT"
      },
      "execution_count": null,
      "outputs": []
    },
    {
      "cell_type": "code",
      "source": [
        "# Input the column name to extract\n",
        "column_name = input(\"Enter the column name to extract: \")\n"
      ],
      "metadata": {
        "colab": {
          "base_uri": "https://localhost:8080/"
        },
        "id": "qQQRmVnBycdT",
        "outputId": "41fa79ff-b542-46fb-bf17-6d6a4d01bb48"
      },
      "execution_count": null,
      "outputs": [
        {
          "name": "stdout",
          "output_type": "stream",
          "text": [
            "Enter the column name to extract: Lead - Health (Goal 3 Completions)\n"
          ]
        }
      ]
    },
    {
      "cell_type": "code",
      "source": [
        "# Add the column to Media O\n",
        "media_o[column_name] = ''\n"
      ],
      "metadata": {
        "id": "Us9QcxAJyfC0"
      },
      "execution_count": null,
      "outputs": []
    },
    {
      "cell_type": "code",
      "source": [
        "# Perform vlookup to check if 'URL' in Media O appears in 'Landing Page' in all_data\n",
        "if 'Landing Page' in all_data.columns and column_name in all_data.columns:\n",
        "    media_o[column_name] = media_o['URL'].map(all_data.set_index('Landing Page')[column_name])\n"
      ],
      "metadata": {
        "id": "y1eQy377yg3H"
      },
      "execution_count": null,
      "outputs": []
    },
    {
      "cell_type": "code",
      "source": [
        "    # Set 'Keyword found in SERPRobot' based on the vlookup result\n",
        "    media_o['Keyword found in SERPRobot'] = media_o[column_name].notna().map({True: 'Yes', False: 'No'})\n"
      ],
      "metadata": {
        "id": "PsdnvpcByj0Y"
      },
      "execution_count": null,
      "outputs": []
    },
    {
      "cell_type": "code",
      "source": [
        "    # Print success message\n",
        "    print(\"Successfully performed vlookup and added the '{}' column to Media O.\".format(column_name))\n",
        "    # Save updated dataframe back to CSV\n",
        "    media_o.to_csv('/content/new report/Media O.csv', index=False)\n"
      ],
      "metadata": {
        "colab": {
          "base_uri": "https://localhost:8080/"
        },
        "id": "5vyUn8qKymJA",
        "outputId": "3b776aa5-0de3-4138-f53b-a712bbf10f83"
      },
      "execution_count": null,
      "outputs": [
        {
          "output_type": "stream",
          "name": "stdout",
          "text": [
            "Successfully performed vlookup and added the 'Lead - Health (Goal 3 Completions)' column to Media O.\n"
          ]
        }
      ]
    },
    {
      "cell_type": "markdown",
      "source": [
        "# Delete All Data"
      ],
      "metadata": {
        "id": "l1K3EiH1noxR"
      }
    },
    {
      "cell_type": "code",
      "source": [
        "\n",
        "\n",
        "def delete_files_in_folder(folder_path):\n",
        "    # Melakukan pengecekan apakah folder tersebut ada\n",
        "    if os.path.exists(folder_path):\n",
        "        # Menghapus semua file dalam folder\n",
        "        for file_name in os.listdir(folder_path):\n",
        "            file_path = os.path.join(folder_path, file_name)\n",
        "            # Pengecekan jika file tersebut adalah file dan bukan direktori lain\n",
        "            if os.path.isfile(file_path):\n",
        "                os.remove(file_path)  # Menghapus file\n",
        "        print(\"All files in the folder have been deleted.\")\n",
        "    else:\n",
        "        print(\"Folder does not exist.\")\n",
        "\n",
        "folder_path = \"/content/new report\"\n",
        "delete_files_in_folder(folder_path)\n"
      ],
      "metadata": {
        "colab": {
          "base_uri": "https://localhost:8080/"
        },
        "id": "FNT5njotnsIq",
        "outputId": "88c55512-c606-4378-eaf3-e99c60b0bb7d"
      },
      "execution_count": null,
      "outputs": [
        {
          "output_type": "stream",
          "name": "stdout",
          "text": [
            "All files in the folder have been deleted.\n"
          ]
        }
      ]
    }
  ]
}